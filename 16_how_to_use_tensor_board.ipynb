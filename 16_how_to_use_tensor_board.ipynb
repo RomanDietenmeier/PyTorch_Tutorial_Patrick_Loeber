{
 "cells": [
  {
   "cell_type": "markdown",
   "metadata": {},
   "source": [
    "https://youtu.be/VJW9wU-1n18<br>\n",
    "pip install tensorboard<br>\n",
    "tensorboard --logdir=runs<br>\n"
   ]
  },
  {
   "cell_type": "code",
   "execution_count": 1,
   "metadata": {},
   "outputs": [],
   "source": [
    "import torch\n",
    "import torch.nn as nn\n",
    "import torchvision\n",
    "import torchvision.transforms as transforms\n",
    "import matplotlib.pyplot as plt\n",
    "import torch.nn.functional as F\n",
    "from torch.utils.tensorboard import SummaryWriter"
   ]
  },
  {
   "cell_type": "code",
   "execution_count": 2,
   "metadata": {},
   "outputs": [],
   "source": [
    "writer = SummaryWriter(\"runs/mnist3\")"
   ]
  },
  {
   "cell_type": "code",
   "execution_count": 3,
   "metadata": {},
   "outputs": [
    {
     "data": {
      "text/plain": [
       "(Dataset MNIST\n",
       "     Number of datapoints: 60000\n",
       "     Root location: ./data\n",
       "     Split: Train\n",
       "     StandardTransform\n",
       " Transform: ToTensor(),\n",
       " Dataset MNIST\n",
       "     Number of datapoints: 10000\n",
       "     Root location: ./data\n",
       "     Split: Test\n",
       "     StandardTransform\n",
       " Transform: ToTensor())"
      ]
     },
     "execution_count": 3,
     "metadata": {},
     "output_type": "execute_result"
    }
   ],
   "source": [
    "# device configuration\n",
    "device = torch.device(\n",
    "    \"cuda\" if torch.cuda.is_available() else \"cpu\"\n",
    ")  # does not work on my windows ^^, I guess I should use Ubuntu for this\n",
    "\n",
    "input_size = 784  # 28x28 are size of the images. 784 is the 1d size of the image\n",
    "hidden_size = 1000  # size of the hidden layers\n",
    "num_classes = 10  # 10 classes for the digits\n",
    "num_epochs = 2\n",
    "batch_size = 100\n",
    "learning_rate = 0.01\n",
    "\n",
    "# MNIST dataset\n",
    "train_dataset = torchvision.datasets.MNIST(\n",
    "    root=\"./data\", train=True, transform=transforms.ToTensor(), download=True\n",
    ")\n",
    "test_dataset = torchvision.datasets.MNIST(\n",
    "    root=\"./data\", train=False, transform=transforms.ToTensor(), download=True\n",
    ")\n",
    "train_dataset, test_dataset"
   ]
  },
  {
   "cell_type": "code",
   "execution_count": 4,
   "metadata": {},
   "outputs": [
    {
     "data": {
      "text/plain": [
       "(Dataset MNIST\n",
       "     Number of datapoints: 60000\n",
       "     Root location: ./data\n",
       "     Split: Train\n",
       "     StandardTransform\n",
       " Transform: ToTensor(),\n",
       " Dataset MNIST\n",
       "     Number of datapoints: 10000\n",
       "     Root location: ./data\n",
       "     Split: Test\n",
       "     StandardTransform\n",
       " Transform: ToTensor())"
      ]
     },
     "execution_count": 4,
     "metadata": {},
     "output_type": "execute_result"
    }
   ],
   "source": [
    "train_loader = torch.utils.data.DataLoader(\n",
    "    dataset=train_dataset, batch_size=batch_size, shuffle=True\n",
    ")\n",
    "test_loader = torch.utils.data.DataLoader(\n",
    "    dataset=test_dataset, batch_size=batch_size, shuffle=True\n",
    ")\n",
    "train_dataset, test_dataset"
   ]
  },
  {
   "cell_type": "code",
   "execution_count": 5,
   "metadata": {},
   "outputs": [
    {
     "data": {
      "text/plain": [
       "(torch.Size([100, 1, 28, 28]), torch.Size([100]))"
      ]
     },
     "execution_count": 5,
     "metadata": {},
     "output_type": "execute_result"
    }
   ],
   "source": [
    "examples = iter(train_loader)\n",
    "samples, labels = next(examples)\n",
    "samples.shape, labels.shape  # torch.Size([100, 1, 28, 28]), torch.Size([100]) -> 100 images of 28x28 pixels and 100 labels for each image (0-9)"
   ]
  },
  {
   "cell_type": "code",
   "execution_count": 6,
   "metadata": {},
   "outputs": [
    {
     "data": {
      "text/plain": [
       "tensor([0, 3, 8, 0, 3, 0, 6, 2, 3, 0, 4, 8, 5, 3, 5, 6, 1, 9, 3, 0, 6, 0, 8, 0,\n",
       "        1, 2, 4, 0, 8, 1, 3, 2, 1, 0, 8, 6, 8, 8, 7, 2, 3, 6, 8, 1, 2, 8, 0, 6,\n",
       "        2, 6, 9, 8, 0, 5, 9, 5, 5, 2, 9, 3, 4, 6, 3, 2, 5, 6, 7, 9, 2, 9, 8, 9,\n",
       "        6, 7, 5, 4, 8, 1, 4, 1, 7, 6, 3, 3, 7, 6, 7, 2, 5, 7, 6, 7, 1, 3, 6, 5,\n",
       "        3, 1, 4, 0])"
      ]
     },
     "execution_count": 6,
     "metadata": {},
     "output_type": "execute_result"
    }
   ],
   "source": [
    "labels"
   ]
  },
  {
   "cell_type": "code",
   "execution_count": 7,
   "metadata": {},
   "outputs": [
    {
     "data": {
      "image/png": "[encoded data removed]",
      "text/plain": [
       "<Figure size 640x480 with 6 Axes>"
      ]
     },
     "metadata": {},
     "output_type": "display_data"
    }
   ],
   "source": [
    "for i in range(6):\n",
    "    plt.subplot(2, 3, i + 1)\n",
    "    plt.imshow(samples[i][0], cmap=\"gray\")\n",
    "img_grid = torchvision.utils.make_grid(samples)\n",
    "writer.add_image(\"mnist_images\", img_grid)\n",
    "writer.flush()\n",
    "plt.show()"
   ]
  },
  {
   "cell_type": "code",
   "execution_count": 8,
   "metadata": {},
   "outputs": [
    {
     "data": {
      "text/plain": [
       "NeuralNet(\n",
       "  (l1): Linear(in_features=784, out_features=1000, bias=True)\n",
       "  (relu): LeakyReLU(negative_slope=0.01)\n",
       "  (l2): Linear(in_features=1000, out_features=10, bias=True)\n",
       ")"
      ]
     },
     "execution_count": 8,
     "metadata": {},
     "output_type": "execute_result"
    }
   ],
   "source": [
    "class NeuralNet(nn.Module):\n",
    "    def __init__(self, input_size, hidden_size, num_classes):\n",
    "        super(NeuralNet, self).__init__()\n",
    "        self.l1 = nn.Linear(input_size, hidden_size)\n",
    "        self.relu = nn.LeakyReLU(negative_slope=0.01)\n",
    "        self.l2 = nn.Linear(hidden_size, num_classes)\n",
    "\n",
    "    def forward(self, x):\n",
    "        out = self.l1(x)\n",
    "        out = self.relu(out)\n",
    "        out = self.l2(out)\n",
    "        return out\n",
    "\n",
    "\n",
    "model = NeuralNet(input_size, hidden_size, num_classes)\n",
    "model"
   ]
  },
  {
   "cell_type": "code",
   "execution_count": 9,
   "metadata": {},
   "outputs": [],
   "source": [
    "criterion = nn.CrossEntropyLoss()\n",
    "optimizer = torch.optim.Adam(\n",
    "    model.parameters(), lr=learning_rate\n",
    ")  # Adam optimizer: https://arxiv.org/abs/1412.6980\n",
    "\n",
    "writer.add_graph(model, samples.reshape(-1, 28 * 28))\n",
    "writer.flush()"
   ]
  },
  {
   "cell_type": "code",
   "execution_count": 10,
   "metadata": {},
   "outputs": [
    {
     "name": "stdout",
     "output_type": "stream",
     "text": [
      "epoch 1/2, step 100/600, loss = 0.2666\n",
      "epoch 1/2, step 200/600, loss = 0.2654\n",
      "epoch 1/2, step 300/600, loss = 0.4130\n",
      "epoch 1/2, step 400/600, loss = 0.0785\n",
      "epoch 1/2, step 500/600, loss = 0.2470\n",
      "epoch 1/2, step 600/600, loss = 0.1414\n",
      "epoch 2/2, step 100/600, loss = 0.2522\n",
      "epoch 2/2, step 200/600, loss = 0.1817\n",
      "epoch 2/2, step 300/600, loss = 0.2419\n",
      "epoch 2/2, step 400/600, loss = 0.0742\n",
      "epoch 2/2, step 500/600, loss = 0.0241\n",
      "epoch 2/2, step 600/600, loss = 0.0936\n"
     ]
    }
   ],
   "source": [
    "n_total_steps = len(train_loader)\n",
    "running_loss = 0.0\n",
    "running_corrects = 0\n",
    "\n",
    "\n",
    "\n",
    "for epoch in range(num_epochs):\n",
    "\n",
    "    for i, (images, labels) in enumerate(train_loader):\n",
    "\n",
    "        # 100, 1, 28, 28 -> 100, 784\n",
    "\n",
    "        # reshape images to (batch_size, input_size)\n",
    "\n",
    "        images = images.reshape(-1, 28 * 28).to(device)\n",
    "\n",
    "        labels = labels.to(device)\n",
    "\n",
    "\n",
    "        # forward pass\n",
    "        outputs = model(images)\n",
    "\n",
    "\n",
    "        loss = criterion(outputs, labels)\n",
    "\n",
    "\n",
    "        # backward pass\n",
    "\n",
    "        optimizer.zero_grad()\n",
    "\n",
    "        loss.backward()  # this does the backpropagation\n",
    "\n",
    "        optimizer.step()\n",
    "\n",
    "        running_loss += loss.item()\n",
    "        running_corrects += torch.sum(torch.max(outputs, 1).indices == labels).item()\n",
    "\n",
    "        if (i + 1) % 100 == 0:\n",
    "            print(\n",
    "\n",
    "                f\"epoch {epoch+1}/{num_epochs}, step {i+1}/{n_total_steps}, loss = {loss.item():.4f}\"\n",
    "            )\n",
    "            writer.add_scalar(\n",
    "                \"training loss\", running_loss / 100, epoch * n_total_steps + i\n",
    "            )\n",
    "            writer.add_scalar(\n",
    "                \"training accuracy\", running_corrects / 100, epoch * n_total_steps + i\n",
    "            )\n",
    "            running_loss = 0.0\n",
    "            running_corrects = 0\n",
    "        writer.flush()"
   ]
  },
  {
   "cell_type": "code",
   "execution_count": 11,
   "metadata": {},
   "outputs": [
    {
     "name": "stdout",
     "output_type": "stream",
     "text": [
      "accuracy = 96.46\n"
     ]
    }
   ],
   "source": [
    "labels_array = []\n",
    "preds = []\n",
    "\n",
    "with torch.no_grad():\n",
    "\n",
    "    n_correct = 0\n",
    "\n",
    "    n_samples = 0\n",
    "\n",
    "    for images, labels in test_loader:\n",
    "\n",
    "\n",
    "        images = images.reshape(-1, 28 * 28).to(device)\n",
    "\n",
    "        labels = labels.to(device)\n",
    "\n",
    "        outputs = model(images)\n",
    "\n",
    "\n",
    "        # max returns (value, index)\n",
    "\n",
    "        _, predicted = torch.max(outputs, 1)\n",
    "\n",
    "\n",
    "        n_samples += labels.shape[0]\n",
    "\n",
    "        n_correct += (predicted == labels).sum().item()\n",
    "\n",
    "        class_predictions = [F.softmax(output, dim=0) for output in outputs]\n",
    "        preds.append(class_predictions)\n",
    "        labels_array.append(labels)\n",
    "    labels = torch.cat(\n",
    "        labels_array\n",
    "    )  # concatenates the labels in a one dimensional tensor\n",
    "    preds = torch.cat(\n",
    "        [torch.stack(batch) for batch in preds]\n",
    "    )  # concatenates the predictions in a two dimensional tensor (batches times, 10)\n",
    "\n",
    "\n",
    "    acc = 100.0 * n_correct / n_samples\n",
    "\n",
    "    print(f\"accuracy = {acc}\")\n",
    "\n",
    "    classes = range(10)\n",
    "    for i in classes:\n",
    "        labels_i = labels == i\n",
    "        preds_i = preds[:, i]\n",
    "        writer.add_pr_curve(str(i), labels_i, preds_i, global_step=0)\n",
    "    writer.flush()"
   ]
  }
 ],
 "metadata": {
  "kernelspec": {
   "display_name": "pytorchtutorial",
   "language": "python",
   "name": "python3"
  },
  "language_info": {
   "codemirror_mode": {
    "name": "ipython",
    "version": 3
   },
   "file_extension": ".py",
   "mimetype": "text/x-python",
   "name": "python",
   "nbconvert_exporter": "python",
   "pygments_lexer": "ipython3",
   "version": "3.11.5"
  }
 },
 "nbformat": 4,
 "nbformat_minor": 2
}
