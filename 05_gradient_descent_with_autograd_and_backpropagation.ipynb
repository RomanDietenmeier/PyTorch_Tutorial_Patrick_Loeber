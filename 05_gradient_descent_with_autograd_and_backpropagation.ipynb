{
 "cells": [
  {
   "cell_type": "markdown",
   "metadata": {},
   "source": [
    "https://youtu.be/E-I2DNVzQLg\n"
   ]
  },
  {
   "cell_type": "code",
   "execution_count": 1,
   "metadata": {},
   "outputs": [],
   "source": [
    "import numpy as np"
   ]
  },
  {
   "cell_type": "code",
   "execution_count": 2,
   "metadata": {},
   "outputs": [
    {
     "name": "stdout",
     "output_type": "stream",
     "text": [
      "Prediction before training: f(5) = 0.000 (should be 10)\n"
     ]
    }
   ],
   "source": [
    "# linear regression\n",
    "# f = w*x (no bias term for simplicity)\n",
    "# f = 2*x\n",
    "\n",
    "X = np.array([1, 2, 3, 4], dtype=np.float32)\n",
    "Y = np.array([2, 4, 6, 8], dtype=np.float32)  # Y=2X f=2X\n",
    "\n",
    "w = 0.0\n",
    "\n",
    "\n",
    "# model prediction\n",
    "def forward(x):\n",
    "    return w * x\n",
    "\n",
    "\n",
    "# loss = MSE = 1/N * (w*x - y)**2\n",
    "def loss(y, y_predicted):\n",
    "    return ((y_predicted - y) ** 2).mean()\n",
    "\n",
    "\n",
    "# gradient\n",
    "# dJ/dw = 1/N * 2x(w*x - y)\n",
    "def gradient(x, y, y_predicted):\n",
    "    return np.dot(2 * x, y_predicted - y).mean()\n",
    "\n",
    "\n",
    "print(f\"Prediction before training: f(5) = {forward(5):.3f} (should be 10)\")"
   ]
  },
  {
   "cell_type": "code",
   "execution_count": 3,
   "metadata": {},
   "outputs": [
    {
     "name": "stdout",
     "output_type": "stream",
     "text": [
      "epoch 1: w = 1.200, loss = 30.00000000\n",
      "Prediction during training: f(5) = 6.000 (should be 10)\n",
      "epoch 3: w = 1.872, loss = 0.76800019\n",
      "Prediction during training: f(5) = 9.360 (should be 10)\n",
      "epoch 5: w = 1.980, loss = 0.01966083\n",
      "Prediction during training: f(5) = 9.898 (should be 10)\n",
      "epoch 7: w = 1.997, loss = 0.00050331\n",
      "Prediction during training: f(5) = 9.984 (should be 10)\n",
      "epoch 9: w = 1.999, loss = 0.00001288\n",
      "Prediction during training: f(5) = 9.997 (should be 10)\n",
      "epoch 11: w = 2.000, loss = 0.00000033\n",
      "Prediction during training: f(5) = 10.000 (should be 10)\n",
      "epoch 13: w = 2.000, loss = 0.00000001\n",
      "Prediction during training: f(5) = 10.000 (should be 10)\n",
      "epoch 15: w = 2.000, loss = 0.00000000\n",
      "Prediction during training: f(5) = 10.000 (should be 10)\n",
      "epoch 17: w = 2.000, loss = 0.00000000\n",
      "Prediction during training: f(5) = 10.000 (should be 10)\n",
      "epoch 19: w = 2.000, loss = 0.00000000\n",
      "Prediction during training: f(5) = 10.000 (should be 10)\n",
      "Prediction after training: f(5) = 10.000 (should be 10)\n"
     ]
    }
   ],
   "source": [
    "# Training\n",
    "learning_rate = 0.01\n",
    "n_iters = 20\n",
    "\n",
    "for epoch in range(n_iters):\n",
    "    # prediction = forward pass\n",
    "    y_pred = forward(X)\n",
    "\n",
    "    # loss\n",
    "    l = loss(Y, y_pred)\n",
    "\n",
    "    # gradients\n",
    "    dw = gradient(X, Y, y_pred)\n",
    "\n",
    "    # update weights\n",
    "    w -= learning_rate * dw\n",
    "\n",
    "    if epoch % 2 == 0:\n",
    "        print(f\"epoch {epoch + 1}: w = {w:.3f}, loss = {l:.8f}\")\n",
    "        print(f\"Prediction during training: f(5) = {forward(5):.3f} (should be 10)\")\n",
    "\n",
    "print(f\"Prediction after training: f(5) = {forward(5):.3f} (should be 10)\")"
   ]
  }
 ],
 "metadata": {
  "kernelspec": {
   "display_name": "pytorchtutorial",
   "language": "python",
   "name": "python3"
  },
  "language_info": {
   "codemirror_mode": {
    "name": "ipython",
    "version": 3
   },
   "file_extension": ".py",
   "mimetype": "text/x-python",
   "name": "python",
   "nbconvert_exporter": "python",
   "pygments_lexer": "ipython3",
   "version": "3.11.5"
  }
 },
 "nbformat": 4,
 "nbformat_minor": 2
}
