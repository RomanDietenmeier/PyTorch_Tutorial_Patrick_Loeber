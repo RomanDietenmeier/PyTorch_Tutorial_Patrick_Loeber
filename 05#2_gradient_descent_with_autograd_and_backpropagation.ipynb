{
 "cells": [
  {
   "cell_type": "markdown",
   "metadata": {},
   "source": [
    "https://youtu.be/E-I2DNVzQLg?feature=shared&t=735\n"
   ]
  },
  {
   "cell_type": "code",
   "execution_count": 1,
   "metadata": {},
   "outputs": [],
   "source": [
    "import torch"
   ]
  },
  {
   "cell_type": "code",
   "execution_count": 2,
   "metadata": {},
   "outputs": [
    {
     "name": "stdout",
     "output_type": "stream",
     "text": [
      "Prediction before training: f(5) = 0.000 (should be 10)\n"
     ]
    }
   ],
   "source": [
    "# linear regression\n",
    "# f = w*x (no bias term for simplicity)\n",
    "# f = 2*x\n",
    "\n",
    "X = torch.tensor([1, 2, 3, 4], dtype=torch.float32)\n",
    "Y = torch.tensor([2, 4, 6, 8], dtype=torch.float32)  # Y=2X f=2X\n",
    "\n",
    "w = torch.tensor(\n",
    "    0.0, dtype=torch.float32, requires_grad=True\n",
    ")  # requires_grad=True replaces the numpy gradient function :)\n",
    "\n",
    "\n",
    "# model prediction\n",
    "def forward(x):\n",
    "    return w * x\n",
    "\n",
    "\n",
    "# loss = MSE = 1/N * (w*x - y)**2\n",
    "def loss(y, y_predicted):\n",
    "    return ((y_predicted - y) ** 2).mean()\n",
    "\n",
    "\n",
    "print(f\"Prediction before training: f(5) = {forward(5):.3f} (should be 10)\")"
   ]
  },
  {
   "cell_type": "code",
   "execution_count": 3,
   "metadata": {},
   "outputs": [
    {
     "name": "stdout",
     "output_type": "stream",
     "text": [
      "epoch 1: w = 0.300, loss = 30.00000000\n",
      "Prediction during training: f(5) = 1.500 (should be 10)\n",
      "epoch 11: w = 1.665, loss = 1.16278565\n",
      "Prediction during training: f(5) = 8.327 (should be 10)\n",
      "epoch 21: w = 1.934, loss = 0.04506890\n",
      "Prediction during training: f(5) = 9.671 (should be 10)\n",
      "epoch 31: w = 1.987, loss = 0.00174685\n",
      "Prediction during training: f(5) = 9.935 (should be 10)\n",
      "epoch 41: w = 1.997, loss = 0.00006770\n",
      "Prediction during training: f(5) = 9.987 (should be 10)\n",
      "epoch 51: w = 1.999, loss = 0.00000262\n",
      "Prediction during training: f(5) = 9.997 (should be 10)\n",
      "epoch 61: w = 2.000, loss = 0.00000010\n",
      "Prediction during training: f(5) = 10.000 (should be 10)\n",
      "epoch 71: w = 2.000, loss = 0.00000000\n",
      "Prediction during training: f(5) = 10.000 (should be 10)\n",
      "epoch 81: w = 2.000, loss = 0.00000000\n",
      "Prediction during training: f(5) = 10.000 (should be 10)\n",
      "epoch 91: w = 2.000, loss = 0.00000000\n",
      "Prediction during training: f(5) = 10.000 (should be 10)\n",
      "Prediction after training: f(5) = 10.000 (should be 10)\n"
     ]
    }
   ],
   "source": [
    "# Training\n",
    "learning_rate = 0.01\n",
    "n_iters = 100\n",
    "\n",
    "for epoch in range(n_iters):\n",
    "    # prediction = forward pass\n",
    "    y_pred = forward(X)\n",
    "\n",
    "    # loss\n",
    "    l = loss(Y, y_pred)\n",
    "\n",
    "    # gradient\n",
    "    l.backward()  # dl/dw calculates w.grad\n",
    "\n",
    "    with torch.no_grad():\n",
    "        # update weights\n",
    "        w -= learning_rate * w.grad\n",
    "\n",
    "    # zero gradients\n",
    "    w.grad.zero_()\n",
    "\n",
    "    if epoch % 10 == 0:\n",
    "        print(f\"epoch {epoch + 1}: w = {w:.3f}, loss = {l:.8f}\")\n",
    "        print(f\"Prediction during training: f(5) = {forward(5):.3f} (should be 10)\")\n",
    "\n",
    "print(f\"Prediction after training: f(5) = {forward(5):.3f} (should be 10)\")"
   ]
  }
 ],
 "metadata": {
  "kernelspec": {
   "display_name": "pytorchtutorial",
   "language": "python",
   "name": "python3"
  },
  "language_info": {
   "codemirror_mode": {
    "name": "ipython",
    "version": 3
   },
   "file_extension": ".py",
   "mimetype": "text/x-python",
   "name": "python",
   "nbconvert_exporter": "python",
   "pygments_lexer": "ipython3",
   "version": "3.11.5"
  }
 },
 "nbformat": 4,
 "nbformat_minor": 2
}
