{
 "cells": [
  {
   "cell_type": "markdown",
   "metadata": {},
   "source": [
    "https://www.youtube.com/watch?v=VVDHU_TWwUg\n"
   ]
  },
  {
   "cell_type": "markdown",
   "metadata": {},
   "source": [
    "# General pytorch training pipeline\n",
    "\n",
    "1. Design model (input_size,output_size,forward pass)\n",
    "2. Construct loss and optimizer\n",
    "3. Training loop\n",
    "\n",
    "- forward pass: compute prediction\n",
    "- backward pass: gradients\n",
    "- update weights\n",
    "- repeat\n"
   ]
  },
  {
   "cell_type": "code",
   "execution_count": 1,
   "metadata": {},
   "outputs": [],
   "source": [
    "import torch\n",
    "import torch.nn as nn"
   ]
  },
  {
   "cell_type": "code",
   "execution_count": 2,
   "metadata": {},
   "outputs": [
    {
     "name": "stdout",
     "output_type": "stream",
     "text": [
      "n_samples 4 n_features 1\n",
      "Prediction before training: f(5) = -2.222 (should be 10)\n"
     ]
    }
   ],
   "source": [
    "# linear regression\n",
    "# f = w*x (no bias term for simplicity)\n",
    "# f = 2*x\n",
    "\n",
    "X = torch.tensor([[1], [2], [3], [4]], dtype=torch.float32)\n",
    "Y = torch.tensor([[2], [4], [6], [8]], dtype=torch.float32)  # Y=2X f=2X\n",
    "X_test = torch.tensor([5], dtype=torch.float32)\n",
    "\n",
    "n_samples, n_features = X.shape\n",
    "print(\"n_samples\", n_samples, \"n_features\", n_features)\n",
    "\n",
    "input_size = n_features  # 1\n",
    "output_size = n_features  # 1\n",
    "\n",
    "\n",
    "# model = nn.Linear(input_size, output_size)\n",
    "\n",
    "\n",
    "class LinearRegression(nn.Module):\n",
    "    def __init__(self, input_dim, output_dim):\n",
    "        super(LinearRegression, self).__init__()\n",
    "        # define layers\n",
    "        self.lin = nn.Linear(input_dim, output_dim)\n",
    "\n",
    "    def forward(self, x):\n",
    "        return self.lin(x)\n",
    "\n",
    "\n",
    "model = LinearRegression(input_size, output_size)\n",
    "\n",
    "# w = torch.tensor(\n",
    "#     0.0, dtype=torch.float32, requires_grad=True\n",
    "# )  # requires_grad=True replaces the numpy gradient function :)\n",
    "\n",
    "\n",
    "# # model prediction\n",
    "# def forward(x):\n",
    "#     return w * x\n",
    "\n",
    "\n",
    "print(f\"Prediction before training: f(5) = {model(X_test).item():.3f} (should be 10)\")"
   ]
  },
  {
   "cell_type": "code",
   "execution_count": 3,
   "metadata": {},
   "outputs": [
    {
     "name": "stdout",
     "output_type": "stream",
     "text": [
      "epoch 1: w = -0.081, loss = 44.73395538, b (bias) = 0.138\n",
      "Prediction during training: f(5) = -0.268 (should be 10)\n",
      "epoch 11: w = 1.457, loss = 1.24575353, b (bias) = 0.636\n",
      "Prediction during training: f(5) = 7.919 (should be 10)\n",
      "epoch 21: w = 1.710, loss = 0.11546580, b (bias) = 0.698\n",
      "Prediction during training: f(5) = 9.248 (should be 10)\n",
      "epoch 31: w = 1.757, loss = 0.08137792, b (bias) = 0.690\n",
      "Prediction during training: f(5) = 9.474 (should be 10)\n",
      "epoch 41: w = 1.770, loss = 0.07593330, b (bias) = 0.672\n",
      "Prediction during training: f(5) = 9.523 (should be 10)\n",
      "epoch 51: w = 1.778, loss = 0.07149521, b (bias) = 0.652\n",
      "Prediction during training: f(5) = 9.542 (should be 10)\n",
      "epoch 61: w = 1.785, loss = 0.06733333, b (bias) = 0.633\n",
      "Prediction during training: f(5) = 9.556 (should be 10)\n",
      "epoch 71: w = 1.791, loss = 0.06341418, b (bias) = 0.614\n",
      "Prediction during training: f(5) = 9.570 (should be 10)\n",
      "epoch 81: w = 1.797, loss = 0.05972315, b (bias) = 0.596\n",
      "Prediction during training: f(5) = 9.582 (should be 10)\n",
      "epoch 91: w = 1.803, loss = 0.05624693, b (bias) = 0.579\n",
      "Prediction during training: f(5) = 9.595 (should be 10)\n",
      "Prediction after training: f(5) = 9.605 (should be 10)\n"
     ]
    }
   ],
   "source": [
    "# Training\n",
    "learning_rate = 0.01\n",
    "n_iters = 100\n",
    "\n",
    "loss = nn.MSELoss()\n",
    "optimizer = torch.optim.SGD(\n",
    "    model.parameters(), lr=learning_rate\n",
    ")  # SGB - Stochastic Gradient Descent\n",
    "\n",
    "for epoch in range(n_iters):\n",
    "    # prediction = forward pass\n",
    "    # y_pred = forward(X)\n",
    "    y_pred = model(X)\n",
    "\n",
    "    # loss\n",
    "    l = loss(Y, y_pred)\n",
    "\n",
    "    # gradient\n",
    "    l.backward()  # dl/dw calculates w.grad\n",
    "\n",
    "    # update weights\n",
    "    optimizer.step()\n",
    "\n",
    "    # zero gradients\n",
    "    optimizer.zero_grad()\n",
    "\n",
    "    if epoch % 10 == 0:\n",
    "        [w, b] = model.parameters()\n",
    "        print(\n",
    "            f\"epoch {epoch + 1}: w = {w[0][0].item():.3f}, loss = {l:.8f}, b (bias) = {b.item():.3f}\"\n",
    "        )\n",
    "        print(\n",
    "            f\"Prediction during training: f(5) = {model(X_test).item():.3f} (should be 10)\"\n",
    "        )\n",
    "\n",
    "print(f\"Prediction after training: f(5) = {model(X_test).item():.3f} (should be 10)\")"
   ]
  }
 ],
 "metadata": {
  "kernelspec": {
   "display_name": "pytorchtutorial",
   "language": "python",
   "name": "python3"
  },
  "language_info": {
   "codemirror_mode": {
    "name": "ipython",
    "version": 3
   },
   "file_extension": ".py",
   "mimetype": "text/x-python",
   "name": "python",
   "nbconvert_exporter": "python",
   "pygments_lexer": "ipython3",
   "version": "3.11.5"
  }
 },
 "nbformat": 4,
 "nbformat_minor": 2
}
